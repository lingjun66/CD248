{
 "cells": [
  {
   "cell_type": "code",
   "execution_count": null,
   "id": "a2292a0c-5502-4f90-9504-94b9312a412c",
   "metadata": {},
   "outputs": [],
   "source": [
    "### shaohui shi\n",
    "### shaohuishi98@gmail.com\n",
    "##stereo-seq GEF QC&gaussian smooth&convert format"
   ]
  },
  {
   "cell_type": "code",
   "execution_count": null,
   "id": "1a684141-a19b-4df8-a6f1-d728314a35a4",
   "metadata": {},
   "outputs": [],
   "source": [
    "import os\n",
    "import pandas as pd \n",
    "import numpy as np\n",
    "import scanpy as sc\n",
    "import scipy.sparse as sp\n",
    "from scipy.io import mmwrite"
   ]
  },
  {
   "cell_type": "code",
   "execution_count": null,
   "id": "9e4221b0-a1a7-4587-8420-ce64b3ea8b28",
   "metadata": {},
   "outputs": [],
   "source": [
    "import stereo as st\n",
    "import warnings\n",
    "warnings.filterwarnings('ignore')"
   ]
  },
  {
   "cell_type": "code",
   "execution_count": null,
   "id": "1b1cf962-3ac9-4956-921a-a89153fc470c",
   "metadata": {},
   "outputs": [],
   "source": [
    "M28h ='~/rawdata/stereo/all_sample_gef_gem/M28h.tissue_1.TissueCut.gef'\n",
    "M14h ='~/rawdata/stereo/all_sample_gef_gem/M14h.tissue_1.TissueCut.gef'\n",
    "Sh ='~/rawdata/stereo/all_sample_gef_gem/Sh.tissue_1.TissueCut.gef'"
   ]
  },
  {
   "cell_type": "code",
   "execution_count": null,
   "id": "92a33ab0-36f8-4c0f-80e3-264b38b68d28",
   "metadata": {},
   "outputs": [],
   "source": [
    "st.io.read_gef_info(M28h)\n",
    "data_M28h = st.io.read_gef(file_path=M28h, bin_size=50)\n",
    "data_M28h\n",
    "data_M28h.tl.cal_qc()\n",
    "data_M28h.plt.violin()"
   ]
  },
  {
   "cell_type": "code",
   "execution_count": null,
   "id": "8dc9c6d2-4c26-4e22-b018-eba85fd1ec71",
   "metadata": {},
   "outputs": [],
   "source": [
    "st.io.read_gef_info(M14h)\n",
    "data_M14h = st.io.read_gef(file_path=M14h, bin_size=50)\n",
    "data_M14h\n",
    "data_M14h.tl.cal_qc()\n",
    "data_M14h.plt.violin()"
   ]
  },
  {
   "cell_type": "code",
   "execution_count": null,
   "id": "1e31a0cf-d58f-463b-b45d-f5cce38b0803",
   "metadata": {},
   "outputs": [],
   "source": [
    "st.io.read_gef_info(Sh)\n",
    "data_Sh = st.io.read_gef(file_path=Sh, bin_size=50)\n",
    "data_Sh\n",
    "data_Sh.tl.cal_qc()\n",
    "data_Sh.plt.violin()"
   ]
  },
  {
   "cell_type": "code",
   "execution_count": null,
   "id": "36a37973-39cc-419e-9547-ff77a44455b7",
   "metadata": {},
   "outputs": [],
   "source": [
    "data_M28h.plt.genes_count()\n",
    "data_M28h.tl.filter_cells(\n",
    "        min_gene=20,\n",
    "        min_n_genes_by_counts=3,\n",
    "        pct_counts_mt=5,\n",
    "        inplace=True\n",
    "        )\n",
    "# save raw data\n",
    "data_M28h.tl.raw_checkpoint()\n",
    "data_M28h.tl.normalize_total(target_sum=10000)\n",
    "data_M28h.tl.log1p()\n",
    "\n",
    "# PCA\n",
    "data_M28h.tl.pca(use_highly_genes=False, n_pcs=50, svd_solver='arpack')"
   ]
  },
  {
   "cell_type": "code",
   "execution_count": null,
   "id": "866406e0-99c3-4de3-ab7e-f1285f1c9174",
   "metadata": {},
   "outputs": [],
   "source": [
    "data_M14h.plt.genes_count()\n",
    "data_M14h.tl.filter_cells(\n",
    "        min_gene=20,\n",
    "        min_n_genes_by_counts=3,\n",
    "        pct_counts_mt=5,\n",
    "        inplace=True\n",
    "        )\n",
    "# save raw data\n",
    "data_M14h.tl.raw_checkpoint()\n",
    "data_M14h.tl.normalize_total(target_sum=10000)\n",
    "data_M14h.tl.log1p()\n",
    "\n",
    "# PCA\n",
    "data_M14h.tl.pca(use_highly_genes=False, n_pcs=50, svd_solver='arpack')"
   ]
  },
  {
   "cell_type": "code",
   "execution_count": null,
   "id": "8d325b89-99fc-419d-a463-145ed4c8f6fe",
   "metadata": {},
   "outputs": [],
   "source": [
    "data_Sh.plt.genes_count()\n",
    "data_Sh.tl.filter_cells(\n",
    "        min_gene=20,\n",
    "        min_n_genes_by_counts=3,\n",
    "        pct_counts_mt=5,\n",
    "        inplace=True\n",
    "        )\n",
    "# save raw data\n",
    "data_Sh.tl.raw_checkpoint()\n",
    "data_Sh.tl.normalize_total(target_sum=10000)\n",
    "data_Sh.tl.log1p()\n",
    "\n",
    "# PCA\n",
    "data_Sh.tl.pca(use_highly_genes=False, n_pcs=50, svd_solver='arpack')"
   ]
  },
  {
   "cell_type": "code",
   "execution_count": null,
   "id": "0c1d7ebc-4d43-4bab-a7ac-42e930f898db",
   "metadata": {},
   "outputs": [],
   "source": [
    "# Gaussian smoothing\n",
    "data_M28h.tl.gaussian_smooth(n_neighbors=10, smooth_threshold=90)\n",
    "data_M28h.tl.scale(max_value=10) # only for gaussian_smooth_scatter_by_gene\n",
    "# Gaussian smoothing\n",
    "data_M14h.tl.gaussian_smooth(n_neighbors=10, smooth_threshold=90)\n",
    "data_M14h.tl.scale(max_value=10) # only for gaussian_smooth_scatter_by_gene\n",
    "# Gaussian smoothing\n",
    "data_Sh.tl.gaussian_smooth(n_neighbors=10, smooth_threshold=90)\n",
    "data_Sh.tl.scale(max_value=10) # only for gaussian_smooth_scatter_by_gene"
   ]
  },
  {
   "cell_type": "code",
   "execution_count": null,
   "id": "a74fea3c-5de9-4e55-88fd-ca1698b0853c",
   "metadata": {},
   "outputs": [],
   "source": [
    "data_M28h.plt.gaussian_smooth_scatter_by_gene(gene_name='Cd3',vmax=8,palette=[\"#440154FF\", \"#481A6CFF\", \"#472F7DFF\", \"#414487FF\", \"#39568CFF\", \"#31688EFF\", \"#2A788EFF\", \"#23888EFF\", \"#1F988BFF\", \"#22A884FF\", \"#35B779FF\", \"#54C568FF\", \"#7AD151FF\", \"#A5DB36FF\", \"#D2E21BFF\", \"#FDE725FF\"])\n",
    "data_M28h.plt.gaussian_smooth_scatter_by_gene(gene_name='Cd248',vmax=8,palette=[\"#440154FF\", \"#481A6CFF\", \"#472F7DFF\", \"#414487FF\", \"#39568CFF\", \"#31688EFF\", \"#2A788EFF\", \"#23888EFF\", \"#1F988BFF\", \"#22A884FF\", \"#35B779FF\", \"#54C568FF\", \"#7AD151FF\", \"#A5DB36FF\", \"#D2E21BFF\", \"#FDE725FF\"])"
   ]
  },
  {
   "cell_type": "code",
   "execution_count": null,
   "id": "4e3a3d65-9f60-4f95-b0a6-1b801f73306c",
   "metadata": {},
   "outputs": [],
   "source": [
    "data_M14h.plt.gaussian_smooth_scatter_by_gene(gene_name='Cd3',vmax=8,palette=[\"#440154FF\", \"#481A6CFF\", \"#472F7DFF\", \"#414487FF\", \"#39568CFF\", \"#31688EFF\", \"#2A788EFF\", \"#23888EFF\", \"#1F988BFF\", \"#22A884FF\", \"#35B779FF\", \"#54C568FF\", \"#7AD151FF\", \"#A5DB36FF\", \"#D2E21BFF\", \"#FDE725FF\"])\n",
    "data_M14h.plt.gaussian_smooth_scatter_by_gene(gene_name='Cd248',vmax=8,palette=[\"#440154FF\", \"#481A6CFF\", \"#472F7DFF\", \"#414487FF\", \"#39568CFF\", \"#31688EFF\", \"#2A788EFF\", \"#23888EFF\", \"#1F988BFF\", \"#22A884FF\", \"#35B779FF\", \"#54C568FF\", \"#7AD151FF\", \"#A5DB36FF\", \"#D2E21BFF\", \"#FDE725FF\"])"
   ]
  },
  {
   "cell_type": "code",
   "execution_count": null,
   "id": "d2aa7a0c-54d4-47ba-a4c1-e1320b74db01",
   "metadata": {},
   "outputs": [],
   "source": [
    "data_Sh.plt.gaussian_smooth_scatter_by_gene(gene_name='Cd3',vmax=8,palette=[\"#440154FF\", \"#481A6CFF\", \"#472F7DFF\", \"#414487FF\", \"#39568CFF\", \"#31688EFF\", \"#2A788EFF\", \"#23888EFF\", \"#1F988BFF\", \"#22A884FF\", \"#35B779FF\", \"#54C568FF\", \"#7AD151FF\", \"#A5DB36FF\", \"#D2E21BFF\", \"#FDE725FF\"])\n",
    "data_Sh.plt.gaussian_smooth_scatter_by_gene(gene_name='Cd248',vmax=8,palette=[\"#440154FF\", \"#481A6CFF\", \"#472F7DFF\", \"#414487FF\", \"#39568CFF\", \"#31688EFF\", \"#2A788EFF\", \"#23888EFF\", \"#1F988BFF\", \"#22A884FF\", \"#35B779FF\", \"#54C568FF\", \"#7AD151FF\", \"#A5DB36FF\", \"#D2E21BFF\", \"#FDE725FF\"])"
   ]
  },
  {
   "cell_type": "code",
   "execution_count": null,
   "id": "4e049db1-7fae-43c3-bc9c-94561049197f",
   "metadata": {},
   "outputs": [],
   "source": [
    "adata = st.io.stereo_to_anndata(data_M28h,flavor='seurat',output='~/rawdata/stereo/after_qc/M28h_heart_bin50.h5ad')\n",
    "adata = st.io.stereo_to_anndata(data_M14h,flavor='seurat',output='~/rawdata/stereo/after_qc/M14h_heart_bin50.h5ad')\n",
    "adata = st.io.stereo_to_anndata(data_Sh,flavor='seurat',output='~/rawdata/stereo/after_qc/Sh_heart_bin50.h5ad')"
   ]
  }
 ],
 "metadata": {
  "kernelspec": {
   "display_name": "st",
   "language": "python",
   "name": "st"
  },
  "language_info": {
   "codemirror_mode": {
    "name": "ipython",
    "version": 3
   },
   "file_extension": ".py",
   "mimetype": "text/x-python",
   "name": "python",
   "nbconvert_exporter": "python",
   "pygments_lexer": "ipython3",
   "version": "3.8.13"
  }
 },
 "nbformat": 4,
 "nbformat_minor": 5
}
